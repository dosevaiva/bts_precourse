{
 "cells": [
  {
   "cell_type": "code",
   "execution_count": 3,
   "id": "7993af18",
   "metadata": {},
   "outputs": [],
   "source": [
    "my_string=\"Barcelona Technology School\""
   ]
  },
  {
   "cell_type": "code",
   "execution_count": 6,
   "id": "28007c97",
   "metadata": {
    "scrolled": true
   },
   "outputs": [
    {
     "data": {
      "text/plain": [
       "'Barcelona Technology School'"
      ]
     },
     "execution_count": 6,
     "metadata": {},
     "output_type": "execute_result"
    }
   ],
   "source": [
    "my_string"
   ]
  },
  {
   "cell_type": "code",
   "execution_count": 7,
   "id": "9ddeaf47",
   "metadata": {},
   "outputs": [
    {
     "data": {
      "text/plain": [
       "str"
      ]
     },
     "execution_count": 7,
     "metadata": {},
     "output_type": "execute_result"
    }
   ],
   "source": [
    "type(my_string)"
   ]
  },
  {
   "cell_type": "code",
   "execution_count": 8,
   "id": "ac912dc5",
   "metadata": {
    "scrolled": true
   },
   "outputs": [
    {
     "data": {
      "text/plain": [
       "27"
      ]
     },
     "execution_count": 8,
     "metadata": {},
     "output_type": "execute_result"
    }
   ],
   "source": [
    "len(my_string)"
   ]
  },
  {
   "cell_type": "code",
   "execution_count": 15,
   "id": "39263f46",
   "metadata": {},
   "outputs": [
    {
     "name": "stdout",
     "output_type": "stream",
     "text": [
      "<class 'int'>\n"
     ]
    }
   ],
   "source": [
    "number = \"5\"\n",
    "number_as_int =int(number)\n",
    "print(type(number_as_int))"
   ]
  },
  {
   "cell_type": "code",
   "execution_count": 14,
   "id": "8033eec0",
   "metadata": {
    "scrolled": true
   },
   "outputs": [
    {
     "name": "stdout",
     "output_type": "stream",
     "text": [
      "Help on method_descriptor:\n",
      "\n",
      "replace(self, old, new, count=-1, /)\n",
      "    Return a copy with all occurrences of substring old replaced by new.\n",
      "    \n",
      "      count\n",
      "        Maximum number of occurrences to replace.\n",
      "        -1 (the default value) means replace all occurrences.\n",
      "    \n",
      "    If the optional argument count is given, only the first count occurrences are\n",
      "    replaced.\n",
      "\n"
     ]
    }
   ],
   "source": [
    "help(str.replace)"
   ]
  },
  {
   "cell_type": "code",
   "execution_count": 18,
   "id": "fc901d20",
   "metadata": {},
   "outputs": [
    {
     "name": "stdout",
     "output_type": "stream",
     "text": [
      "My Technology School\n"
     ]
    }
   ],
   "source": [
    "my_new_string = my_string.replace(\"Barcelona\", \"My\")\n",
    "print(my_new_string)"
   ]
  },
  {
   "cell_type": "code",
   "execution_count": 22,
   "id": "d2ac55a7",
   "metadata": {},
   "outputs": [
    {
     "name": "stdout",
     "output_type": "stream",
     "text": [
      "Barcel?na Techn?l?gy Sch??l\n"
     ]
    }
   ],
   "source": [
    "my_new_string = my_string.replace(\"o\", \"?\")\n",
    "print(my_new_string)"
   ]
  },
  {
   "cell_type": "code",
   "execution_count": 24,
   "id": "6df43548",
   "metadata": {},
   "outputs": [
    {
     "name": "stdout",
     "output_type": "stream",
     "text": [
      "Python is cool\n"
     ]
    }
   ],
   "source": [
    "my_str = \"Python\"\n",
    "secret = \"{} is cool\".format(my_str)\n",
    "print(secret)"
   ]
  },
  {
   "cell_type": "code",
   "execution_count": 27,
   "id": "39309193",
   "metadata": {},
   "outputs": [
    {
     "name": "stdout",
     "output_type": "stream",
     "text": [
      "pandas,numpy,requests\n"
     ]
    }
   ],
   "source": [
    "pandas = \"pandas\"\n",
    "numpy = \"numpy\"\n",
    "requests = \"requests\"\n",
    "pyhton_libs = \",\".join([pandas,numpy,requests])\n",
    "print(pyhton_libs)\n",
    "\n",
    "#works only for strings"
   ]
  },
  {
   "cell_type": "code",
   "execution_count": 31,
   "id": "57024f42",
   "metadata": {},
   "outputs": [
    {
     "name": "stdout",
     "output_type": "stream",
     "text": [
      "1?2\n"
     ]
    }
   ],
   "source": [
    "some_libs = \"1\"\n",
    "some_other_libs = \"2\"\n",
    "all_libs = \"?\".join([some_libs,some_other_libs])\n",
    "print(all_libs)"
   ]
  },
  {
   "cell_type": "code",
   "execution_count": 33,
   "id": "a770b6de",
   "metadata": {},
   "outputs": [
    {
     "data": {
      "text/plain": [
       "'One Three Two'"
      ]
     },
     "execution_count": 33,
     "metadata": {},
     "output_type": "execute_result"
    }
   ],
   "source": [
    "\"{0} {2} {1}\".format(\"One\",\"Two\",\"Three\")"
   ]
  },
  {
   "cell_type": "code",
   "execution_count": 37,
   "id": "b5de8f57",
   "metadata": {},
   "outputs": [
    {
     "name": "stdout",
     "output_type": "stream",
     "text": [
      "BARCELONA\n",
      "barcelona\n",
      "Barcelona\n"
     ]
    }
   ],
   "source": [
    "mixed_case = \"BaRceLonA\"\n",
    "print(mixed_case.upper())\n",
    "print(mixed_case.lower())\n",
    "print(mixed_case.title())"
   ]
  },
  {
   "cell_type": "markdown",
   "id": "d64470fc",
   "metadata": {},
   "source": [
    "##\n",
    "WHAT?"
   ]
  },
  {
   "cell_type": "code",
   "execution_count": 76,
   "id": "7217ff29",
   "metadata": {},
   "outputs": [
    {
     "name": "stdout",
     "output_type": "stream",
     "text": [
      "5.4; 3.7; 2\n",
      "9.100000000000001\n"
     ]
    }
   ],
   "source": [
    "a = 5.4\n",
    "b = 3.7\n",
    "c = 2\n",
    "\n",
    "print(str(a) + \"; \" + str(b) + \"; \" + str(c))\n",
    "print( a + b )"
   ]
  },
  {
   "cell_type": "code",
   "execution_count": 44,
   "id": "5339837e",
   "metadata": {},
   "outputs": [
    {
     "name": "stdout",
     "output_type": "stream",
     "text": [
      "5.43.42\n",
      "10.8\n"
     ]
    }
   ],
   "source": [
    "a=5.4\n",
    "b=3.4\n",
    "c=2\n",
    "\n",
    "print(str(a) + str(b) + str(c))\n",
    "print( a + b + c)"
   ]
  },
  {
   "cell_type": "code",
   "execution_count": 45,
   "id": "3f74487c",
   "metadata": {},
   "outputs": [
    {
     "name": "stdout",
     "output_type": "stream",
     "text": [
      "This is with wierd formating\n"
     ]
    }
   ],
   "source": [
    "ugly_formatted = \" \\n \\t This is with wierd formating \\t \\n\"\n",
    "stripped = ugly_formatted.strip()\n",
    "print(stripped)"
   ]
  },
  {
   "cell_type": "code",
   "execution_count": 48,
   "id": "fb53da2e",
   "metadata": {},
   "outputs": [
    {
     "name": "stdout",
     "output_type": "stream",
     "text": [
      "['This', 'is', 'my', 'sentance']\n"
     ]
    }
   ],
   "source": [
    "sentance = \"This is my sentance\"\n",
    "split_sentance = sentance.split()\n",
    "print(split_sentance)"
   ]
  },
  {
   "cell_type": "code",
   "execution_count": 51,
   "id": "51af07b0",
   "metadata": {},
   "outputs": [
    {
     "name": "stdout",
     "output_type": "stream",
     "text": [
      "['apple', 'banana', 'orange']\n"
     ]
    }
   ],
   "source": [
    "sentance = \"apple, banana, orange\"\n",
    "split_sentance = sentance.split(\", \")\n",
    "print(split_sentance)"
   ]
  },
  {
   "cell_type": "code",
   "execution_count": 65,
   "id": "7f538ef4",
   "metadata": {},
   "outputs": [
    {
     "name": "stdout",
     "output_type": "stream",
     "text": [
      "This Looks \t Ugly\n"
     ]
    }
   ],
   "source": [
    "ugly_mixed_case = \"   ThiS looKs \\t UglY\"\n",
    "pretty = ugly_mixed_case.strip().title().replace( \"ugly\", \"good\")\n",
    "print(pretty)"
   ]
  },
  {
   "cell_type": "code",
   "execution_count": 61,
   "id": "265b606d",
   "metadata": {},
   "outputs": [
    {
     "name": "stdout",
     "output_type": "stream",
     "text": [
      "4 5 20\n",
      "4 / 5 / 20\n"
     ]
    }
   ],
   "source": [
    "a = 4\n",
    "b = 5\n",
    "print( a, b, a * b )\n",
    "print( a, b, a * b, sep=\" / \")"
   ]
  },
  {
   "cell_type": "markdown",
   "id": "27ca865d",
   "metadata": {},
   "source": [
    "# Numbers"
   ]
  },
  {
   "cell_type": "code",
   "execution_count": 77,
   "id": "1908a6ee",
   "metadata": {},
   "outputs": [
    {
     "name": "stdout",
     "output_type": "stream",
     "text": [
      "My intiger is 7 and it's type is <class 'int'>\n"
     ]
    }
   ],
   "source": [
    "my_int = 7\n",
    "print(\"My intiger is {} and it's type is {}\".format(my_int,type(my_int)))"
   ]
  },
  {
   "cell_type": "code",
   "execution_count": 78,
   "id": "56bea6b8",
   "metadata": {},
   "outputs": [
    {
     "name": "stdout",
     "output_type": "stream",
     "text": [
      "My intiger is 7.0 and it's type is <class 'float'>\n"
     ]
    }
   ],
   "source": [
    "my_float = float(my_int)\n",
    "print(\"My intiger is {} and it's type is {}\".format(my_float,type(my_float)))"
   ]
  },
  {
   "cell_type": "code",
   "execution_count": 81,
   "id": "60459c39",
   "metadata": {},
   "outputs": [
    {
     "name": "stdout",
     "output_type": "stream",
     "text": [
      "1.0\n",
      "1.2\n"
     ]
    }
   ],
   "source": [
    "print(1 / 1)\n",
    "print(6 / 5)"
   ]
  },
  {
   "cell_type": "code",
   "execution_count": 83,
   "id": "81651b0c",
   "metadata": {},
   "outputs": [
    {
     "name": "stdout",
     "output_type": "stream",
     "text": [
      "False\n",
      "0.30000000000000004\n"
     ]
    }
   ],
   "source": [
    "val = 0.1 + 0.1 + 0.1\n",
    "print(val == 0.3)\n",
    "print(val)"
   ]
  },
  {
   "cell_type": "code",
   "execution_count": 84,
   "id": "e5f57076",
   "metadata": {},
   "outputs": [
    {
     "data": {
      "text/plain": [
       "1"
      ]
     },
     "execution_count": 84,
     "metadata": {},
     "output_type": "execute_result"
    }
   ],
   "source": [
    "7 // 5\n",
    "# the whole part of the division"
   ]
  },
  {
   "cell_type": "code",
   "execution_count": 85,
   "id": "41c9cdfb",
   "metadata": {},
   "outputs": [
    {
     "data": {
      "text/plain": [
       "2"
      ]
     },
     "execution_count": 85,
     "metadata": {},
     "output_type": "execute_result"
    }
   ],
   "source": [
    "7 % 5\n",
    "# remainder "
   ]
  },
  {
   "cell_type": "code",
   "execution_count": 86,
   "id": "8144bfc8",
   "metadata": {},
   "outputs": [
    {
     "data": {
      "text/plain": [
       "1.4"
      ]
     },
     "execution_count": 86,
     "metadata": {},
     "output_type": "execute_result"
    }
   ],
   "source": [
    "7 / 5"
   ]
  },
  {
   "cell_type": "code",
   "execution_count": 88,
   "id": "1c0fe985",
   "metadata": {},
   "outputs": [
    {
     "data": {
      "text/plain": [
       "16"
      ]
     },
     "execution_count": 88,
     "metadata": {},
     "output_type": "execute_result"
    }
   ],
   "source": [
    "2 ** 4"
   ]
  },
  {
   "cell_type": "code",
   "execution_count": 89,
   "id": "53f96a06",
   "metadata": {},
   "outputs": [
    {
     "name": "stdout",
     "output_type": "stream",
     "text": [
      "from float: 0.1000000000000000055511151231257827021181583404541015625 \n",
      "from string: 0.1\n"
     ]
    }
   ],
   "source": [
    "from decimal import Decimal\n",
    "from_float = Decimal(0.1)\n",
    "from_str = Decimal(\"0.1\")\n",
    "print('from float: {} \\nfrom string: {}'.format(from_float, from_str))"
   ]
  },
  {
   "cell_type": "code",
   "execution_count": 92,
   "id": "9c05f68f",
   "metadata": {},
   "outputs": [
    {
     "name": "stdout",
     "output_type": "stream",
     "text": [
      "False\n",
      "True\n"
     ]
    }
   ],
   "source": [
    "my_decimal = Decimal(\"0.1\")\n",
    "sum_of_decimals = my_decimal + my_decimal + my_decimal\n",
    "print(sum_of_decimals == 0.3)\n",
    "print(sum_of_decimals == Decimal (\"0.3\"))"
   ]
  },
  {
   "cell_type": "code",
   "execution_count": 97,
   "id": "a7172509",
   "metadata": {},
   "outputs": [
    {
     "name": "stdout",
     "output_type": "stream",
     "text": [
      "12345212.5678\n",
      "<class 'str'>\n",
      "12345212.5678\n"
     ]
    }
   ],
   "source": [
    "val = '%.4f' % (12345212.5678493)\n",
    "print(val)\n",
    "print(type(val))\n",
    "\n",
    "float_val = float(val)\n",
    "print(float_val)"
   ]
  },
  {
   "cell_type": "code",
   "execution_count": 100,
   "id": "3ec0c08a",
   "metadata": {},
   "outputs": [
    {
     "name": "stdout",
     "output_type": "stream",
     "text": [
      "35\n",
      "34.8327461\n",
      "34.83\n"
     ]
    }
   ],
   "source": [
    "import decimal\n",
    "\n",
    "# decimal.getcontext().rounding = decimall.ROUND_DOWM\n",
    "c = decimal.Decimal(34.8327461)\n",
    "print(round(c))\n",
    "print(float(c))\n",
    "print(float(round(c,2)))\n",
    "decimal.getcontext().rounding = decimal. \n"
   ]
  },
  {
   "cell_type": "markdown",
   "id": "739f0f90",
   "metadata": {},
   "source": [
    "# Conditions"
   ]
  },
  {
   "cell_type": "code",
   "execution_count": 107,
   "id": "ad8bb3f2",
   "metadata": {},
   "outputs": [
    {
     "name": "stdout",
     "output_type": "stream",
     "text": [
      "0: False, 1: True\n",
      "empty list: False,list with values: True\n",
      "empty list: False,list with values: True\n"
     ]
    }
   ],
   "source": [
    "print(\"0: {}, 1: {}\".format(bool(0), bool(1)))\n",
    "print(\"empty list: {},list with values: {}\".format(bool([]), bool([\"woop\"])))\n",
    "print(\"empty list: {},list with values: {}\".format(bool({}), bool({\"Pyhton\" : \"Cool\"})))"
   ]
  },
  {
   "cell_type": "code",
   "execution_count": 110,
   "id": "a099ef2b",
   "metadata": {},
   "outputs": [
    {
     "name": "stdout",
     "output_type": "stream",
     "text": [
      "1 > 0: True\n",
      "1 <= 0: False\n"
     ]
    }
   ],
   "source": [
    "print(\"1 > 0: {}\".format(1 > 0))\n",
    "print(\"1 <= 0: {}\".format(1 <= 0))"
   ]
  },
  {
   "cell_type": "code",
   "execution_count": 113,
   "id": "5a8a24a2",
   "metadata": {},
   "outputs": [
    {
     "name": "stdout",
     "output_type": "stream",
     "text": [
      "1 < 2 < 3 : True\n"
     ]
    }
   ],
   "source": [
    "print(\"1 <= 2 < 3 : {}\".format(1 <= 2 <= 3))"
   ]
  },
  {
   "cell_type": "code",
   "execution_count": 116,
   "id": "cb8182ed",
   "metadata": {},
   "outputs": [
    {
     "name": "stdout",
     "output_type": "stream",
     "text": [
      "Statement is true!\n"
     ]
    }
   ],
   "source": [
    "statement = True\n",
    "\n",
    "if statement:\n",
    "    print (\"Statement is true!\")\n",
    "else:\n",
    "    print(\"Statement is false!\")"
   ]
  },
  {
   "cell_type": "code",
   "execution_count": 117,
   "id": "6851449f",
   "metadata": {},
   "outputs": [
    {
     "name": "stdout",
     "output_type": "stream",
     "text": [
      "The value is positive and it is less than 1 or equal to 3\n"
     ]
    }
   ],
   "source": [
    "val = 3\n",
    "\n",
    "if 0 <= val < 1 or val == 3:\n",
    "    print(\"The value is positive and it is less than 1 or equal to 3\")"
   ]
  },
  {
   "cell_type": "markdown",
   "id": "19cda474",
   "metadata": {},
   "source": [
    "# Loops"
   ]
  },
  {
   "cell_type": "code",
   "execution_count": null,
   "id": "d635fffb",
   "metadata": {},
   "outputs": [],
   "source": [
    "while True:\n",
    "    print(\"Hi\")\n"
   ]
  }
 ],
 "metadata": {
  "kernelspec": {
   "display_name": "Python 3",
   "language": "python",
   "name": "python3"
  },
  "language_info": {
   "codemirror_mode": {
    "name": "ipython",
    "version": 3
   },
   "file_extension": ".py",
   "mimetype": "text/x-python",
   "name": "python",
   "nbconvert_exporter": "python",
   "pygments_lexer": "ipython3",
   "version": "3.8.8"
  }
 },
 "nbformat": 4,
 "nbformat_minor": 5
}
